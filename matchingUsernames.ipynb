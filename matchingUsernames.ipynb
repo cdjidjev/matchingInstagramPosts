{
 "cells": [
  {
   "attachments": {},
   "cell_type": "markdown",
   "metadata": {},
   "source": [
    "## Identifying possible changed usernames within Instagram posts. "
   ]
  },
  {
   "cell_type": "code",
   "execution_count": 1,
   "metadata": {},
   "outputs": [],
   "source": [
    "import pandas as pd\n",
    "import re\n",
    "import difflib"
   ]
  },
  {
   "attachments": {},
   "cell_type": "markdown",
   "metadata": {},
   "source": [
    "The `comment_to_dict` function takes a string input containing an HTML formatted instagram comment and extracts the username, message, and timestamp information. It then returns a dictionary with these extracted values. The function uses regular expressions to search for the relevant patterns in the input string.\n",
    "\n",
    "The `comment_to_dict` function takes a HTML formatted string input containing a username and returns the username string. "
   ]
  },
  {
   "cell_type": "code",
   "execution_count": 2,
   "metadata": {},
   "outputs": [],
   "source": [
    "def comment_to_dict(string):\n",
    "\n",
    "    # extract username\n",
    "    username = re.search('<font.*?>(.*?)</font>', string).group(1)\n",
    "\n",
    "    # extract message\n",
    "    message = re.search('</font>(.*?)\\(created_at:', string).group(1).strip()\n",
    "\n",
    "    # extract timestamp\n",
    "    timestamp = re.search('created_at:(.*)\\)', string).group(1).strip()\n",
    "\n",
    "    # create a list with the extracted values\n",
    "    result = {'username':username, 'message':message, 'timestamp':timestamp}\n",
    "    return result\n",
    "\n",
    "def remove_font(string):\n",
    "    username = re.search('<font.*?>(.*?)</font>', string).group(1)\n",
    "    return username"
   ]
  },
  {
   "attachments": {},
   "cell_type": "markdown",
   "metadata": {},
   "source": [
    "Reading and coverting data files to a database"
   ]
  },
  {
   "cell_type": "code",
   "execution_count": 3,
   "metadata": {},
   "outputs": [
    {
     "name": "stdout",
     "output_type": "stream",
     "text": [
      "<class 'pandas.core.frame.DataFrame'>\n"
     ]
    }
   ],
   "source": [
    "\n",
    "# read in the first CSV file\n",
    "df1 = pd.read_csv('/Users/christiedjidjev/Library/CloudStorage/OneDrive-Personal/BullyBlocker/Matching Instagram Sessions and Pictures 2020/labeled_0plus_to_10__full.csv', encoding='iso-8859-1')\n",
    "print(type(df1))\n",
    "\n",
    "# read in the second CSV file\n",
    "df2 = pd.read_csv('/Users/christiedjidjev/Library/CloudStorage/OneDrive-Personal/BullyBlocker/Matching Instagram Sessions and Pictures 2020/labeled_10plus_to_40_full.csv', encoding='iso-8859-1')\n",
    "\n",
    "# read in the third CSV file\n",
    "df3 = pd.read_csv('/Users/christiedjidjev/Library/CloudStorage/OneDrive-Personal/BullyBlocker/Matching Instagram Sessions and Pictures 2020/labeled_40plus_full.csv', encoding='iso-8859-1')\n",
    "\n",
    "# merge the three dataframes into a single dataframe\n",
    "df = pd.concat([df1, df2, df3])\n",
    "\n",
    "# write the merged dataframe to a new CSV file\n",
    "#merged_df.to_csv('merged_insta_data.csv', index=False)\n"
   ]
  },
  {
   "attachments": {},
   "cell_type": "markdown",
   "metadata": {},
   "source": [
    "This code extracts information from `df` to create a list of social media posts and their associated comments, which is stored in the `sessions` list. \n",
    "\n",
    "The `param_list` and `cmnt_param_list` variables define the parameters that will be extracted from the DataFrame for each post and comment, respectively. \n",
    "\n",
    "The code loops over each row in the DataFrame and for each row, it creates a new post dictionary and initializes an empty comment list. It then loops over each column between column 16 and 211 to extract comment strings. If a comment string is not empty, it is converted to a comment dictionary using the `comment_to_dict` function, and added to the comment list for the current post. \n",
    "\n",
    "After all comments for the current post have been processed, the code extracts the post parameters specified in `param_list` from the DataFrame, adds the comment list to the post dictionary, and appends the resulting dictionary to the `sessions` list. The code continues the process for the remaining rows in the DataFrame.\n"
   ]
  },
  {
   "cell_type": "code",
   "execution_count": 4,
   "metadata": {},
   "outputs": [
    {
     "name": "stdout",
     "output_type": "stream",
     "text": [
      "0\n"
     ]
    }
   ],
   "source": [
    "sessions = []\n",
    "\n",
    "param_list =['owner_id', 'cptn_time', 'owner_cmnt'] \n",
    "cmnt_param_list =['username', 'text', 'timeposted']    \n",
    "\n",
    "error_count = 0\n",
    "for row in range(len(df)):\n",
    "#for row in range(5):\n",
    "    post_dict = {}\n",
    "    comment_list = [] \n",
    "    for col in range(16,211): \n",
    "        cmnt_string = df.iloc[row][col] \n",
    "        if cmnt_string != 'empety':\n",
    "            cmnt_string = cmnt_string.replace('created at', 'created_at')\n",
    "            try:\n",
    "                comment = comment_to_dict(cmnt_string)\n",
    "                comment_list.append(comment)\n",
    "            except: \n",
    "                error_count+=1 \n",
    "                #print('cmnt_string =', cmnt_string)\n",
    "        else: \n",
    "            break\n",
    "    for col in param_list:\n",
    "        post_dict[col] = df.iloc[row][col]\n",
    "    \n",
    "    post_dict['comments'] = comment_list\n",
    "    sessions.append(post_dict)\n",
    "\n",
    "print(error_count)"
   ]
  },
  {
   "attachments": {},
   "cell_type": "markdown",
   "metadata": {},
   "source": [
    "This code loops through a list of sessions (list of dictionaries). \n",
    "\n",
    "For each session, it extracts the owner and comment usernames from the post and comments, respectively. It then checks if all the mentioned usernames in the comments are either the post owner or present in the previous comments. \n",
    "\n",
    "If not, it calculates the similarity between the mentioned username and the previous usernames using the edit distance algorithm. If the similarity is greater than 0.7, it replaces the incorrect username with the closest matching username from previous comments. If the similarity is less than or equal to 0.7, it adds the comment to the `missing_posts` list. Finally, it prints the counts of correct, changed, and missing comments."
   ]
  },
  {
   "cell_type": "code",
   "execution_count": 6,
   "metadata": {},
   "outputs": [],
   "source": [
    "correct_count, changed_count, missing_count = 0, 0, 0\n",
    "changed_comments = []\n",
    "diff_list = []\n",
    "changed_posts_count = 0\n",
    "dirty_posts_count = 0\n",
    "threshold = 0.8\n",
    "higher_threshold =0.9\n",
    "changed_users = set()\n",
    "clean_posts = []\n",
    "\n",
    "for post in sessions:\n",
    "\tchanged_count_per_post = 0\n",
    "\ttotal_users_per_post= []\n",
    "\tchanged_post = False\n",
    "\tdirty_post = False\n",
    "\n",
    "\tSession_users=[]\n",
    "\tpost['owner_id'] = post['owner_id'].replace('\\n', '')\n",
    "\ttry:\n",
    "\t\tSession_users.append(remove_font(post['owner_id']))\n",
    "\texcept:\n",
    "\t\tpass\n",
    "\tfor comment in post['comments']:\n",
    "\t\tSession_users.append(comment['username'])\n",
    "\t\tusernames = re.findall(r'@(\\w+)', comment['message'])\n",
    "\t\tfor uname in usernames: # @name mentioned in the comment \n",
    "\t\t\ttotal_users_per_post += uname\n",
    "\t\t\tif uname in Session_users:\n",
    "\t\t\t\tcorrect_count += 1\n",
    "\t\t\telse:\n",
    "\t\t\t\tbest_match = None\n",
    "\t\t\t\tmin_dist = 100\n",
    "\t\t\t\tfor u in Session_users: # comment/post author names used in the post so far\n",
    "\t\t\t\t\te_dist = difflib.ndiff(u, uname)\n",
    "\t\t\t\t\te_dist = sum(1 for d in e_dist if d[0] != ' ')\n",
    "\t\t\t\t\tif min_dist > e_dist:\n",
    "\t\t\t\t\t\tmin_dist = e_dist\n",
    "\t\t\t\t\t\tbest_match = u\n",
    "\t\t\t\t\t\t\t\t\t\t\t\n",
    "\t\t\t\tsim = 1.0 - min_dist/max(len(best_match), len(uname))\n",
    "\t\t\t\tp = (uname, best_match)\n",
    "\t\t\t\tif sim > threshold: \n",
    "\t\t\t\t\tchanged_comments.append(comment)\n",
    "\t\t\t\t\tchanged_users.add(p)\n",
    "\t\t\t\t\tchanged_count += 1\n",
    "\t\t\t\t\tchanged_count_per_post += 1\n",
    "\t\t\t\t\tchanged_post = True \n",
    "\t\t\t\t\tif sim <= higher_threshold:\n",
    "\t\t\t\t\t\tdiff_list.append(p)\n",
    "\t\t\t\telse: \n",
    "\t\t\t\t\tclean_comment = re.sub(r'<[^>]*>', '', comment['message'])\n",
    "\t\t\t\t\tmissing_count += 1\n",
    "\t\t\t\t\tdirty_post = True \n",
    "\t\t\tSession_users.append(uname)\t\n",
    "\t\n",
    "\tif changed_post: changed_posts_count += 1\n",
    "\tif dirty_post: dirty_posts_count += 1\n",
    "\telse: clean_posts.append(post)"
   ]
  },
  {
   "cell_type": "code",
   "execution_count": 7,
   "metadata": {},
   "outputs": [
    {
     "name": "stdout",
     "output_type": "stream",
     "text": [
      "Total # of posts: 2246\n",
      "Results for threshold of 0.8 and higher threshold of 0.9\n",
      "Counts of username by type:\n",
      "\tnoDirectMatch-NoSimMatch: 31053 \n",
      "\tdirectMatch: 37517 \n",
      "\tnoDirectMatch-NoSimMatch: 1326\n",
      "# of posts containing changed usernames: 999\n",
      "# of (\"dirty\") posts containing noDirectMatch-NoSimMatch usernames: 2110\n",
      "# of (\"clean\") posts containing not containing any noDirectMatch-NoSimMatch usernames: 136\n"
     ]
    }
   ],
   "source": [
    "print(\"Total # of posts:\", len(sessions))\n",
    "print(\"Results for threshold of\", threshold, \"and higher threshold of\", higher_threshold)\n",
    "print(\"Counts of username by type:\")\n",
    "print(\"\\tnoDirectMatch-NoSimMatch:\", missing_count, \"\\n\\tdirectMatch:\", correct_count, \"\\n\\tnoDirectMatch-NoSimMatch:\", changed_count)\n",
    "print('# of posts containing changed usernames:', changed_posts_count)\n",
    "print('# of (\"dirty\") posts containing noDirectMatch-NoSimMatch usernames:', dirty_posts_count)\n",
    "print('# of (\"clean\") posts containing not containing any noDirectMatch-NoSimMatch usernames:', len(clean_posts))"
   ]
  }
 ],
 "metadata": {
  "kernelspec": {
   "display_name": "Python 3.9.16 ('instagram')",
   "language": "python",
   "name": "python3"
  },
  "language_info": {
   "codemirror_mode": {
    "name": "ipython",
    "version": 3
   },
   "file_extension": ".py",
   "mimetype": "text/x-python",
   "name": "python",
   "nbconvert_exporter": "python",
   "pygments_lexer": "ipython3",
   "version": "3.10.10"
  },
  "orig_nbformat": 4,
  "vscode": {
   "interpreter": {
    "hash": "30999fb86358d97c85bffcf138415fbe8328bc9e451076b995fcc50bfefcee81"
   }
  }
 },
 "nbformat": 4,
 "nbformat_minor": 2
}
